{
 "cells": [
  {
   "cell_type": "code",
   "execution_count": 12,
   "metadata": {
    "ExecuteTime": {
     "end_time": "2018-01-08T09:34:20.921414Z",
     "start_time": "2018-01-08T09:34:20.900672Z"
    }
   },
   "outputs": [],
   "source": [
    "import math\n",
    "from statistics import mean\n",
    "from util.survey import Pregnancies\n",
    "from util.thinkstats import MeanVar\n"
   ]
  },
  {
   "cell_type": "markdown",
   "metadata": {},
   "source": [
    "# Exercise 1.3\n",
    "\n",
    "Compute the average pregnancy length (in weeks) for first babies and others. Is there a difference between the groups? How big is it?"
   ]
  },
  {
   "cell_type": "code",
   "execution_count": 14,
   "metadata": {
    "ExecuteTime": {
     "end_time": "2018-01-08T09:34:30.262042Z",
     "start_time": "2018-01-08T09:34:29.865429Z"
    }
   },
   "outputs": [],
   "source": [
    "table = Pregnancies()\n",
    "table.ReadRecords()"
   ]
  },
  {
   "cell_type": "code",
   "execution_count": 15,
   "metadata": {
    "ExecuteTime": {
     "end_time": "2018-01-08T09:34:33.794383Z",
     "start_time": "2018-01-08T09:34:33.787706Z"
    }
   },
   "outputs": [
    {
     "name": "stdout",
     "output_type": "stream",
     "text": [
      "Number of Pregnancies: 13593\n"
     ]
    }
   ],
   "source": [
    "print(f\"Number of Pregnancies: {len(table.records)}\")"
   ]
  },
  {
   "cell_type": "code",
   "execution_count": 16,
   "metadata": {
    "ExecuteTime": {
     "end_time": "2018-01-08T09:34:34.840479Z",
     "start_time": "2018-01-08T09:34:34.800917Z"
    },
    "scrolled": true
   },
   "outputs": [
    {
     "name": "stdout",
     "output_type": "stream",
     "text": [
      "Live births: {'first_babies': 4413, 'other': 4735}\n",
      "First babies avg length: 38.60095173351461\n",
      "Other babies avg length: 38.52291446673706\n"
     ]
    }
   ],
   "source": [
    "live_births = {\n",
    "    \"first_babies\": 0,\n",
    "    \"other\": 0\n",
    "}\n",
    "pregnancy_lengths = {\n",
    "    \"first_babies\": [],\n",
    "    \"other\": []\n",
    "}\n",
    "\n",
    "for rec in table.records:\n",
    "    live_birth_type = \"first_babies\" if rec.birthord == 1 else \"other\"\n",
    "\n",
    "    if rec.outcome == 1:\n",
    "        live_births[live_birth_type] += 1\n",
    "\n",
    "        pregnancy_lengths[live_birth_type].append(rec.prglength)\n",
    "\n",
    "first_mean = mean(pregnancy_lengths[\"first_babies\"])\n",
    "other_mean = mean(pregnancy_lengths[\"other\"])\n",
    "\n",
    "print(f\"Live births: {live_births}\")\n",
    "print(f\"First babies avg length: {first_mean}\")\n",
    "print(f\"Other babies avg length: {other_mean}\")"
   ]
  },
  {
   "cell_type": "markdown",
   "metadata": {},
   "source": [
    "There is a difference, but it's very small; just .08 of a week's difference."
   ]
  },
  {
   "cell_type": "markdown",
   "metadata": {},
   "source": [
    "# Exercise 2.2\n",
    "\n",
    "Compute the standard deviation of gestation time for first babies and others. Does it look like the spread is the same for the two groups? How big is the difference in the means compared to these standard deviations? What does this comparison suggest about the statistical significance of the difference?"
   ]
  },
  {
   "cell_type": "code",
   "execution_count": 19,
   "metadata": {
    "ExecuteTime": {
     "end_time": "2018-01-08T09:38:14.576306Z",
     "start_time": "2018-01-08T09:38:14.567166Z"
    }
   },
   "outputs": [
    {
     "name": "stdout",
     "output_type": "stream",
     "text": [
      "First babies avg length: 38.60095173351461\n",
      "Other babies avg length: 38.52291446673706\n",
      "Std Deviation for first babies: 2.7915850698243654\n",
      "Std Deviation for other babies: 2.6155761106844913\n"
     ]
    }
   ],
   "source": [
    "first_baby_mean_var = MeanVar(pregnancy_lengths[\"first_babies\"])\n",
    "other_baby_mean_var = MeanVar(pregnancy_lengths[\"other\"])\n",
    "\n",
    "print(f\"First babies avg length: {first_baby_mean_var[0]}\")\n",
    "print(f\"Other babies avg length: {other_baby_mean_var[0]}\")\n",
    "\n",
    "print(f\"Std Deviation for first babies: {math.sqrt(first_baby_mean_var[1])}\")\n",
    "print(f\"Std Deviation for other babies: {math.sqrt(other_baby_mean_var[1])}\")"
   ]
  },
  {
   "cell_type": "code",
   "execution_count": null,
   "metadata": {},
   "outputs": [],
   "source": []
  }
 ],
 "metadata": {
  "kernelspec": {
   "display_name": "Python 3",
   "language": "python",
   "name": "python3"
  },
  "language_info": {
   "codemirror_mode": {
    "name": "ipython",
    "version": 3
   },
   "file_extension": ".py",
   "mimetype": "text/x-python",
   "name": "python",
   "nbconvert_exporter": "python",
   "pygments_lexer": "ipython3",
   "version": "3.6.4"
  }
 },
 "nbformat": 4,
 "nbformat_minor": 2
}
