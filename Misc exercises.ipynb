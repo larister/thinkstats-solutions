{
 "cells": [
  {
   "cell_type": "code",
   "execution_count": 1,
   "metadata": {
    "ExecuteTime": {
     "end_time": "2018-01-07T17:48:24.410235Z",
     "start_time": "2018-01-07T17:48:24.398312Z"
    }
   },
   "outputs": [],
   "source": [
    "import math\n",
    "from util.thinkstats import MeanVar"
   ]
  },
  {
   "cell_type": "markdown",
   "metadata": {},
   "source": [
    "# Exercise 2.1"
   ]
  },
  {
   "cell_type": "code",
   "execution_count": 4,
   "metadata": {
    "ExecuteTime": {
     "end_time": "2018-01-08T09:41:48.813346Z",
     "start_time": "2018-01-08T09:41:48.798909Z"
    }
   },
   "outputs": [],
   "source": [
    "def Pumpkin(pumpkin_weights):\n",
    "    mean_var = MeanVar(pumpkin_weights)\n",
    "\n",
    "    print(f\"Mean pumpkin weight: {mean_var[0]} pounds\")\n",
    "    print(f\"Pumpkin weight variance: {mean_var[1]}\")\n",
    "    print(f\"Pumpkin weight standard deviation: {math.sqrt(mean_var[1])}\")"
   ]
  },
  {
   "cell_type": "code",
   "execution_count": 5,
   "metadata": {
    "ExecuteTime": {
     "end_time": "2018-01-08T09:41:50.061525Z",
     "start_time": "2018-01-08T09:41:50.057576Z"
    },
    "scrolled": true
   },
   "outputs": [
    {
     "name": "stdout",
     "output_type": "stream",
     "text": [
      "Mean pumpkin weight: 149.5 pounds\n",
      "Pumpkin weight variance: 64974.75\n",
      "Pumpkin weight standard deviation: 254.90145154549435\n"
     ]
    }
   ],
   "source": [
    "Pumpkin([1, 3, 3, 591])"
   ]
  },
  {
   "cell_type": "code",
   "execution_count": null,
   "metadata": {},
   "outputs": [],
   "source": []
  }
 ],
 "metadata": {
  "kernelspec": {
   "display_name": "Python 3",
   "language": "python",
   "name": "python3"
  },
  "language_info": {
   "codemirror_mode": {
    "name": "ipython",
    "version": 3
   },
   "file_extension": ".py",
   "mimetype": "text/x-python",
   "name": "python",
   "nbconvert_exporter": "python",
   "pygments_lexer": "ipython3",
   "version": "3.6.4"
  }
 },
 "nbformat": 4,
 "nbformat_minor": 2
}
